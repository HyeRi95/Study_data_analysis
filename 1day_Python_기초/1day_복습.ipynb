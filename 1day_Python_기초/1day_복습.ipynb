{
 "cells": [
  {
   "cell_type": "code",
   "execution_count": 3,
   "id": "d29b8450",
   "metadata": {},
   "outputs": [
    {
     "data": {
      "text/plain": [
       "{'a': ['aa', 'bb', 'cc'], 'b': ['a', 'b', 'c']}"
      ]
     },
     "execution_count": 3,
     "metadata": {},
     "output_type": "execute_result"
    }
   ],
   "source": [
    "dict_val = {'a' : ['aa','bb','cc'],\n",
    "            'b' : ['a','b','c']\n",
    "            }\n",
    "dict_val"
   ]
  },
  {
   "cell_type": "code",
   "execution_count": 4,
   "id": "1ccd618d",
   "metadata": {},
   "outputs": [
    {
     "data": {
      "text/plain": [
       "dict_items([('a', ['aa', 'bb', 'cc']), ('b', ['a', 'b', 'c'])])"
      ]
     },
     "execution_count": 4,
     "metadata": {},
     "output_type": "execute_result"
    }
   ],
   "source": [
    "dict_val.items()"
   ]
  },
  {
   "cell_type": "code",
   "execution_count": 6,
   "id": "a2a261a8",
   "metadata": {},
   "outputs": [
    {
     "name": "stdout",
     "output_type": "stream",
     "text": [
      "a ['aa', 'bb', 'cc']\n",
      "b ['a', 'b', 'c']\n"
     ]
    }
   ],
   "source": [
    "for key, value in dict_val.items() :\n",
    "    print(key, value)"
   ]
  },
  {
   "cell_type": "code",
   "execution_count": 20,
   "id": "5f894942",
   "metadata": {},
   "outputs": [
    {
     "name": "stdout",
     "output_type": "stream",
     "text": [
      "['aa', 'bb', 'cc']\n",
      "['a', 'b', 'c']\n"
     ]
    }
   ],
   "source": [
    "for i in dict_val :\n",
    "    print(dict_val[i])"
   ]
  },
  {
   "cell_type": "markdown",
   "id": "fd868140",
   "metadata": {},
   "source": [
    "- 딕셔너리에서 특정 위치 값 찾기"
   ]
  },
  {
   "cell_type": "code",
   "execution_count": null,
   "id": "f35bf01c",
   "metadata": {},
   "outputs": [],
   "source": [
    "dict_val['a'][2] "
   ]
  },
  {
   "cell_type": "code",
   "execution_count": 27,
   "id": "f1791797",
   "metadata": {},
   "outputs": [
    {
     "name": "stdout",
     "output_type": "stream",
     "text": [
      "aa\n",
      "bb\n",
      "cc\n",
      "a\n",
      "b\n",
      "c\n"
     ]
    }
   ],
   "source": [
    "for k in dict_val :\n",
    "        for i in range(0,len(dict_val[k])):\n",
    "            print(dict_val[k][i])"
   ]
  },
  {
   "cell_type": "code",
   "execution_count": 37,
   "id": "076e1c55",
   "metadata": {},
   "outputs": [
    {
     "data": {
      "text/plain": [
       "[{'a': ['aa', 'bb', 'cc']}, {'b': ['a', 'b', 'c']}]"
      ]
     },
     "execution_count": 37,
     "metadata": {},
     "output_type": "execute_result"
    }
   ],
   "source": [
    "list_val= [{'a' : ['aa','bb','cc']},\n",
    "           {'b' : ['a','b','c']}]\n",
    "list_val"
   ]
  },
  {
   "cell_type": "code",
   "execution_count": 40,
   "id": "f36080f3",
   "metadata": {},
   "outputs": [
    {
     "name": "stdout",
     "output_type": "stream",
     "text": [
      "['aa', 'bb', 'cc']\n",
      "aa\n",
      "bb\n",
      "cc\n",
      "['a', 'b', 'c']\n",
      "a\n",
      "b\n",
      "c\n"
     ]
    }
   ],
   "source": [
    "for i in list_val :\n",
    "    for j in i :\n",
    "        print(i[j])\n",
    "        for k in i[j]:\n",
    "            print(k)"
   ]
  },
  {
   "cell_type": "code",
   "execution_count": 50,
   "id": "01c164b9",
   "metadata": {},
   "outputs": [
    {
     "name": "stdout",
     "output_type": "stream",
     "text": [
      "False\n",
      "True\n",
      "False\n",
      "False\n",
      "True\n",
      "False\n"
     ]
    },
    {
     "data": {
      "text/plain": [
       "['bb', 'b']"
      ]
     },
     "execution_count": 50,
     "metadata": {},
     "output_type": "execute_result"
    }
   ],
   "source": [
    "list_temp=[]\n",
    "for i in list_val:\n",
    "    for j in i:\n",
    "        for k in i[j]:\n",
    "            print(k.find('b')>=0) # boolean 값으로 나온다 \n",
    "            if k.find('b') >=0 : \n",
    "                list_temp.append(k)\n",
    "                \n",
    "list_temp"
   ]
  },
  {
   "cell_type": "code",
   "execution_count": 51,
   "id": "2a240c0a",
   "metadata": {},
   "outputs": [
    {
     "data": {
      "text/plain": [
       "[{'a': ['aa', 'bb', 'cc']}, {'b': ['a', 'b', 'c']}]"
      ]
     },
     "execution_count": 51,
     "metadata": {},
     "output_type": "execute_result"
    }
   ],
   "source": [
    "list_val"
   ]
  },
  {
   "cell_type": "code",
   "execution_count": 52,
   "id": "53d4b72c",
   "metadata": {},
   "outputs": [
    {
     "data": {
      "text/plain": [
       "2"
      ]
     },
     "execution_count": 52,
     "metadata": {},
     "output_type": "execute_result"
    }
   ],
   "source": [
    "len(list_val)"
   ]
  }
 ],
 "metadata": {
  "kernelspec": {
   "display_name": "Python 3 (ipykernel)",
   "language": "python",
   "name": "python3"
  },
  "language_info": {
   "codemirror_mode": {
    "name": "ipython",
    "version": 3
   },
   "file_extension": ".py",
   "mimetype": "text/x-python",
   "name": "python",
   "nbconvert_exporter": "python",
   "pygments_lexer": "ipython3",
   "version": "3.9.12"
  }
 },
 "nbformat": 4,
 "nbformat_minor": 5
}
