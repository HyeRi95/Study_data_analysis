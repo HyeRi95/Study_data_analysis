{
 "cells": [
  {
   "cell_type": "markdown",
   "id": "461f133a",
   "metadata": {},
   "source": [
    "### 파이썬 기초"
   ]
  },
  {
   "cell_type": "code",
   "execution_count": 3,
   "id": "e0a9d434",
   "metadata": {},
   "outputs": [
    {
     "name": "stdout",
     "output_type": "stream",
     "text": [
      "['aa', 'bb', 'cc']\n",
      "['a', 'b', 'c']\n"
     ]
    }
   ],
   "source": [
    "\"\"\"\n",
    "[문제]\n",
    "dict_val이라는 딕셔너리 변수에 \n",
    "아래 값을 넣기\n",
    "a 키에는 리스트 \"aa\",\"bb\",\"cc\"넣기\n",
    "b 키에는 리스트 \"a\",\"b\",\"c\" 넣기\n",
    "dic_val에 들어있는 키값에 대한 리스트 출력하기 \n",
    "\"\"\"\n",
    "\n",
    "dict_val = {'a' : ['aa','bb','cc'],\n",
    "            'b' : ['a','b','c']}\n",
    "print(dict_val['a'])\n",
    "print(dict_val['b'])\n"
   ]
  },
  {
   "cell_type": "code",
   "execution_count": 4,
   "id": "6bcee1d8",
   "metadata": {},
   "outputs": [
    {
     "name": "stdout",
     "output_type": "stream",
     "text": [
      "a ['aa', 'bb', 'cc']\n",
      "b ['a', 'b', 'c']\n"
     ]
    }
   ],
   "source": [
    "for key,value in dict_val.items():\n",
    "    print(key, value)"
   ]
  },
  {
   "cell_type": "code",
   "execution_count": 6,
   "id": "c24fefd4",
   "metadata": {},
   "outputs": [
    {
     "name": "stdout",
     "output_type": "stream",
     "text": [
      "['aa', 'bb', 'cc']\n",
      "aa\n",
      "bb\n",
      "cc\n",
      "aa\n",
      "bb\n",
      "cc\n",
      "aa\n",
      "bb\n",
      "cc\n",
      "aa\n",
      "bb\n",
      "cc\n",
      "['a', 'b', 'c']\n",
      "a\n",
      "b\n",
      "c\n",
      "a\n",
      "b\n",
      "c\n",
      "a\n",
      "b\n",
      "c\n",
      "a\n",
      "b\n",
      "c\n"
     ]
    }
   ],
   "source": [
    "# 자주 사용되는 방법 \n",
    "for k in dict_val :\n",
    "    print(dict_val[k])\n",
    "    list_val=dict_val[k]\n",
    "    # 리스트의 값을 이용하는 방식,  dict_val[k] 자체를 하나의 리스트로 생각하고 for문 작성한다\n",
    "    for i in dict_val[k]:\n",
    "        print(i)\n",
    "    # 리스트의 인덱스 번호를 이용하는 방식\n",
    "    for i in range(0,len(dict_val[k])):\n",
    "        print(dict_val[k][i])\n",
    "    for val in list_val :\n",
    "        print(val)\n",
    "        \n",
    "    for i in range(0, len(list_val)):\n",
    "        print(list_val[i])"
   ]
  },
  {
   "cell_type": "code",
   "execution_count": null,
   "id": "24a41946",
   "metadata": {},
   "outputs": [],
   "source": [
    "\"\"\"\n",
    "list_val 이라는 리스트 변수에 딕셔너리 값을 넣겠습니다.\n",
    "첫번째 리스트에는 a키, 값은 리스트 \"aa\",\"bb\",\"cc\"넣기\n",
    "두번째 리스트에는 b키, 값은 리스트 \"a\",\"b\",\"c\"넣기\n",
    "list_val 출력하기 \n",
    "\"\"\""
   ]
  },
  {
   "cell_type": "code",
   "execution_count": 42,
   "id": "47b04a7e",
   "metadata": {},
   "outputs": [
    {
     "data": {
      "text/plain": [
       "[{'a': ['aa', 'bb', 'cc']}, {'b': ['a', 'b', 'c']}]"
      ]
     },
     "execution_count": 42,
     "metadata": {},
     "output_type": "execute_result"
    }
   ],
   "source": [
    "list_val=[{\"a\" :[\"aa\",\"bb\",\"cc\"]},\n",
    "          {\"b\" : [\"a\",\"b\",\"c\"]}]\n",
    "list_val"
   ]
  },
  {
   "cell_type": "code",
   "execution_count": 43,
   "id": "0a8ad85d",
   "metadata": {},
   "outputs": [
    {
     "data": {
      "text/plain": [
       "[{'a': ['aa', 'bb', 'cc']}, {'b': ['a', 'b', 'c']}]"
      ]
     },
     "execution_count": 43,
     "metadata": {},
     "output_type": "execute_result"
    }
   ],
   "source": [
    "dict1 = {\"a\" : [\"aa\",\"bb\",\"cc\"]}\n",
    "dict2 = {\"b\" : [\"a\",\"b\",\"c\"]}\n",
    "list_val2 = [dict1,dict2]\n",
    "list_val2"
   ]
  },
  {
   "cell_type": "code",
   "execution_count": null,
   "id": "ebac17f4",
   "metadata": {},
   "outputs": [],
   "source": [
    "# list_val에 들어있는 딕셔너리의 키에 대응하는 값들을 모두 출력해 주세요 "
   ]
  },
  {
   "cell_type": "code",
   "execution_count": 68,
   "id": "4181a14f",
   "metadata": {},
   "outputs": [
    {
     "name": "stdout",
     "output_type": "stream",
     "text": [
      "{'a': ['aa', 'bb', 'cc']}\n",
      "['aa', 'bb', 'cc']\n",
      "aa\n",
      "bb\n",
      "cc\n",
      "{'b': ['a', 'b', 'c']}\n",
      "['a', 'b', 'c']\n",
      "a\n",
      "b\n",
      "c\n"
     ]
    }
   ],
   "source": [
    "for i in list_val:\n",
    "    print(i)\n",
    "    # i 값은 딕셔너리 \n",
    "    for j in i:\n",
    "        print(i[j])\n",
    "        # i[j] 리스트 형태 \n",
    "        for k in i[j]:\n",
    "            print(k)\n",
    "  "
   ]
  },
  {
   "cell_type": "code",
   "execution_count": 102,
   "id": "8dfbd937",
   "metadata": {},
   "outputs": [
    {
     "name": "stdout",
     "output_type": "stream",
     "text": [
      "['b']\n"
     ]
    }
   ],
   "source": [
    "# 위의 list_val에 들어있는 딕셔너리의 키에 대응하는 값 중에 \n",
    "# \"b\"라는 단어가 들어있으면 해당키에 대응하는 값을 \n",
    "# list_temp라는 리스트 변수에 담아주세요 \n",
    "# list_temp에 값이 잘 담겨져있는지 출력하기 \n",
    "\n",
    "\n",
    "\n",
    "for s in list_val :\n",
    "    for j in s :\n",
    "        if \"b\" or \"bb\" in s[j]:\n",
    "            list_temp = [j]\n",
    "            \n",
    "print(list_temp)"
   ]
  },
  {
   "cell_type": "code",
   "execution_count": 111,
   "id": "efe8a5de",
   "metadata": {},
   "outputs": [
    {
     "name": "stdout",
     "output_type": "stream",
     "text": [
      "{'a': ['aa', 'bb', 'cc']}\n",
      "['aa', 'bb', 'cc']\n",
      "aa\n",
      "False\n",
      "bb\n",
      "True\n",
      "cc\n",
      "False\n",
      "{'b': ['a', 'b', 'c']}\n",
      "['a', 'b', 'c']\n",
      "a\n",
      "False\n",
      "b\n",
      "True\n",
      "c\n",
      "False\n",
      "****\n",
      "['bb', 'b']\n"
     ]
    }
   ],
   "source": [
    "list_temp =[]\n",
    "for i in list_val:\n",
    "    print(i)\n",
    "   \n",
    "    for j in i:\n",
    "        print(i[j])\n",
    "        \n",
    "        for k in i[j]:\n",
    "            print(k)\n",
    "#             print(\"--------------\")\n",
    "#             print(k[0]) # 문자열중에 0번째 인덱스값 추출 \n",
    "#             print(\"--------------\")\n",
    "#             if k[0]=='b': # b 라는 문자가 있는 해당 문자열을 list_temp 리스트에 추가 \n",
    "#                 list_temp.append(k) # 전체주석 ctrl+/\n",
    "            print(k.find('b')>=0) # b 라는 단어가 시작되는 위치의 인덱스 값을 return , b 단어가 없으면 -1 인덱스값 return\n",
    "            if k.find('b')>=0 : # 0보다 크거나 같은 위치에 b가 존재할때 찾기 \n",
    "                list_temp.append(k)\n",
    "                \n",
    "print('****')\n",
    "print(list_temp)\n",
    "  "
   ]
  },
  {
   "cell_type": "code",
   "execution_count": 112,
   "id": "412ab69f",
   "metadata": {},
   "outputs": [
    {
     "data": {
      "text/plain": [
       "[{'a': ['aa', 'bb', 'cc']}, {'b': ['a', 'b', 'c']}]"
      ]
     },
     "execution_count": 112,
     "metadata": {},
     "output_type": "execute_result"
    }
   ],
   "source": [
    "list_val"
   ]
  },
  {
   "cell_type": "code",
   "execution_count": 114,
   "id": "ff04549a",
   "metadata": {},
   "outputs": [
    {
     "data": {
      "text/plain": [
       "2"
      ]
     },
     "execution_count": 114,
     "metadata": {},
     "output_type": "execute_result"
    }
   ],
   "source": [
    "len(list_val) # 리스트 개수 확인 "
   ]
  },
  {
   "cell_type": "code",
   "execution_count": 117,
   "id": "85f12b74",
   "metadata": {},
   "outputs": [
    {
     "name": "stdout",
     "output_type": "stream",
     "text": [
      "{'a': ['aa', 'bb', 'cc']}\n",
      "{'b': ['a', 'b', 'c']}\n"
     ]
    }
   ],
   "source": [
    "for i in range(0,len(list_val)): # 0, 1 로 for문 진행, 인덱스 이용 \n",
    "    print(list_val[i])"
   ]
  },
  {
   "cell_type": "code",
   "execution_count": 119,
   "id": "564622ba",
   "metadata": {},
   "outputs": [
    {
     "name": "stdout",
     "output_type": "stream",
     "text": [
      "{'a': ['aa', 'bb', 'cc']}\n",
      "{'b': ['a', 'b', 'c']}\n"
     ]
    }
   ],
   "source": [
    "for v in list_val: # 값 이용\n",
    "    print(v)"
   ]
  }
 ],
 "metadata": {
  "kernelspec": {
   "display_name": "Python 3.9.12 64-bit (system)",
   "language": "python",
   "name": "python3"
  },
  "language_info": {
   "codemirror_mode": {
    "name": "ipython",
    "version": 3
   },
   "file_extension": ".py",
   "mimetype": "text/x-python",
   "name": "python",
   "nbconvert_exporter": "python",
   "pygments_lexer": "ipython3",
   "version": "3.9.12"
  },
  "vscode": {
   "interpreter": {
    "hash": "4094bf607d4ea82df5b06ae1fa4dc38d6d0c9a872201bd3028e6b285d440bea1"
   }
  }
 },
 "nbformat": 4,
 "nbformat_minor": 5
}
