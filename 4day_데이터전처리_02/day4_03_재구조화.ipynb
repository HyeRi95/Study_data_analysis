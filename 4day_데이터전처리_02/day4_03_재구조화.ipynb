{
 "cells": [
  {
   "cell_type": "code",
   "execution_count": 1,
   "id": "2b2e03fb",
   "metadata": {},
   "outputs": [],
   "source": [
    "import pandas as pd"
   ]
  },
  {
   "cell_type": "code",
   "execution_count": 2,
   "id": "2135e435",
   "metadata": {},
   "outputs": [
    {
     "data": {
      "text/html": [
       "<div>\n",
       "<style scoped>\n",
       "    .dataframe tbody tr th:only-of-type {\n",
       "        vertical-align: middle;\n",
       "    }\n",
       "\n",
       "    .dataframe tbody tr th {\n",
       "        vertical-align: top;\n",
       "    }\n",
       "\n",
       "    .dataframe thead th {\n",
       "        text-align: right;\n",
       "    }\n",
       "</style>\n",
       "<table border=\"1\" class=\"dataframe\">\n",
       "  <thead>\n",
       "    <tr style=\"text-align: right;\">\n",
       "      <th></th>\n",
       "      <th>student_no</th>\n",
       "      <th>class</th>\n",
       "      <th>science</th>\n",
       "      <th>english</th>\n",
       "      <th>math</th>\n",
       "      <th>sex</th>\n",
       "    </tr>\n",
       "  </thead>\n",
       "  <tbody>\n",
       "    <tr>\n",
       "      <th>0</th>\n",
       "      <td>1</td>\n",
       "      <td>A</td>\n",
       "      <td>50</td>\n",
       "      <td>98</td>\n",
       "      <td>50</td>\n",
       "      <td>m</td>\n",
       "    </tr>\n",
       "    <tr>\n",
       "      <th>1</th>\n",
       "      <td>2</td>\n",
       "      <td>A</td>\n",
       "      <td>60</td>\n",
       "      <td>97</td>\n",
       "      <td>60</td>\n",
       "      <td>w</td>\n",
       "    </tr>\n",
       "    <tr>\n",
       "      <th>2</th>\n",
       "      <td>3</td>\n",
       "      <td>A</td>\n",
       "      <td>78</td>\n",
       "      <td>86</td>\n",
       "      <td>45</td>\n",
       "      <td>w</td>\n",
       "    </tr>\n",
       "    <tr>\n",
       "      <th>3</th>\n",
       "      <td>4</td>\n",
       "      <td>A</td>\n",
       "      <td>58</td>\n",
       "      <td>98</td>\n",
       "      <td>30</td>\n",
       "      <td>m</td>\n",
       "    </tr>\n",
       "    <tr>\n",
       "      <th>4</th>\n",
       "      <td>5</td>\n",
       "      <td>B</td>\n",
       "      <td>65</td>\n",
       "      <td>80</td>\n",
       "      <td>90</td>\n",
       "      <td>w</td>\n",
       "    </tr>\n",
       "    <tr>\n",
       "      <th>5</th>\n",
       "      <td>6</td>\n",
       "      <td>B</td>\n",
       "      <td>98</td>\n",
       "      <td>89</td>\n",
       "      <td>50</td>\n",
       "      <td>m</td>\n",
       "    </tr>\n",
       "    <tr>\n",
       "      <th>6</th>\n",
       "      <td>7</td>\n",
       "      <td>B</td>\n",
       "      <td>45</td>\n",
       "      <td>90</td>\n",
       "      <td>80</td>\n",
       "      <td>m</td>\n",
       "    </tr>\n",
       "    <tr>\n",
       "      <th>7</th>\n",
       "      <td>8</td>\n",
       "      <td>B</td>\n",
       "      <td>25</td>\n",
       "      <td>78</td>\n",
       "      <td>90</td>\n",
       "      <td>w</td>\n",
       "    </tr>\n",
       "    <tr>\n",
       "      <th>8</th>\n",
       "      <td>9</td>\n",
       "      <td>C</td>\n",
       "      <td>15</td>\n",
       "      <td>98</td>\n",
       "      <td>20</td>\n",
       "      <td>w</td>\n",
       "    </tr>\n",
       "    <tr>\n",
       "      <th>9</th>\n",
       "      <td>10</td>\n",
       "      <td>C</td>\n",
       "      <td>45</td>\n",
       "      <td>93</td>\n",
       "      <td>50</td>\n",
       "      <td>w</td>\n",
       "    </tr>\n",
       "  </tbody>\n",
       "</table>\n",
       "</div>"
      ],
      "text/plain": [
       "   student_no class  science  english  math sex\n",
       "0           1     A       50       98    50   m\n",
       "1           2     A       60       97    60   w\n",
       "2           3     A       78       86    45   w\n",
       "3           4     A       58       98    30   m\n",
       "4           5     B       65       80    90   w\n",
       "5           6     B       98       89    50   m\n",
       "6           7     B       45       90    80   m\n",
       "7           8     B       25       78    90   w\n",
       "8           9     C       15       98    20   w\n",
       "9          10     C       45       93    50   w"
      ]
     },
     "execution_count": 2,
     "metadata": {},
     "output_type": "execute_result"
    }
   ],
   "source": [
    "file_path = './data/exam_sample.csv'\n",
    "df = pd.read_csv(file_path, encoding='euc-kr')\n",
    "df"
   ]
  },
  {
   "cell_type": "code",
   "execution_count": 4,
   "id": "fba2e055",
   "metadata": {},
   "outputs": [
    {
     "name": "stdout",
     "output_type": "stream",
     "text": [
      "20\n",
      "90\n"
     ]
    }
   ],
   "source": [
    "print(df['math'].min())\n",
    "print(df['math'].max())"
   ]
  },
  {
   "cell_type": "code",
   "execution_count": 6,
   "id": "a72e547d",
   "metadata": {},
   "outputs": [
    {
     "data": {
      "text/plain": [
       "0    (43.333, 66.667]\n",
       "1    (43.333, 66.667]\n",
       "2    (43.333, 66.667]\n",
       "3     (19.93, 43.333]\n",
       "4      (66.667, 90.0]\n",
       "5    (43.333, 66.667]\n",
       "6      (66.667, 90.0]\n",
       "7      (66.667, 90.0]\n",
       "8     (19.93, 43.333]\n",
       "9    (43.333, 66.667]\n",
       "Name: math, dtype: category\n",
       "Categories (3, interval[float64, right]): [(19.93, 43.333] < (43.333, 66.667] < (66.667, 90.0]]"
      ]
     },
     "execution_count": 6,
     "metadata": {},
     "output_type": "execute_result"
    }
   ],
   "source": [
    "# cut() : 특정 데이터를 동일한 간격으로 구분할때 사용 \n",
    "pd.cut(df['math'],3) # 균등한 범위로 3구간으로 범위 나눈다 "
   ]
  },
  {
   "cell_type": "code",
   "execution_count": 8,
   "id": "df04a508",
   "metadata": {},
   "outputs": [
    {
     "data": {
      "text/plain": [
       "0    1\n",
       "1    1\n",
       "2    1\n",
       "3    0\n",
       "4    2\n",
       "5    1\n",
       "6    2\n",
       "7    2\n",
       "8    0\n",
       "9    1\n",
       "Name: math, dtype: int64"
      ]
     },
     "execution_count": 8,
     "metadata": {},
     "output_type": "execute_result"
    }
   ],
   "source": [
    "df1 = pd.cut(df['math'],3,labels = False) # labels = False 구간으로 표현 \n",
    "df1"
   ]
  },
  {
   "cell_type": "code",
   "execution_count": 17,
   "id": "478f131c",
   "metadata": {},
   "outputs": [
    {
     "data": {
      "text/plain": [
       "0    50\n",
       "1    60\n",
       "3    30\n",
       "4    90\n",
       "6    80\n",
       "8    20\n",
       "Name: math, dtype: int64"
      ]
     },
     "execution_count": 17,
     "metadata": {},
     "output_type": "execute_result"
    }
   ],
   "source": [
    "df2 = df['math'].groupby(df1)\n",
    "df2.head() \n",
    "df2.head(2) # 0구간에 속해있는값 2개 , 1구간에 속해있는값 2개 , 2구간에 속해있는 값 2개 출력 "
   ]
  },
  {
   "cell_type": "code",
   "execution_count": 18,
   "id": "bc42e558",
   "metadata": {},
   "outputs": [
    {
     "data": {
      "text/html": [
       "<div>\n",
       "<style scoped>\n",
       "    .dataframe tbody tr th:only-of-type {\n",
       "        vertical-align: middle;\n",
       "    }\n",
       "\n",
       "    .dataframe tbody tr th {\n",
       "        vertical-align: top;\n",
       "    }\n",
       "\n",
       "    .dataframe thead th {\n",
       "        text-align: right;\n",
       "    }\n",
       "</style>\n",
       "<table border=\"1\" class=\"dataframe\">\n",
       "  <thead>\n",
       "    <tr style=\"text-align: right;\">\n",
       "      <th></th>\n",
       "      <th>count</th>\n",
       "      <th>mean</th>\n",
       "      <th>std</th>\n",
       "      <th>min</th>\n",
       "      <th>max</th>\n",
       "    </tr>\n",
       "    <tr>\n",
       "      <th>math</th>\n",
       "      <th></th>\n",
       "      <th></th>\n",
       "      <th></th>\n",
       "      <th></th>\n",
       "      <th></th>\n",
       "    </tr>\n",
       "  </thead>\n",
       "  <tbody>\n",
       "    <tr>\n",
       "      <th>0</th>\n",
       "      <td>2</td>\n",
       "      <td>25.000000</td>\n",
       "      <td>7.071068</td>\n",
       "      <td>20</td>\n",
       "      <td>30</td>\n",
       "    </tr>\n",
       "    <tr>\n",
       "      <th>1</th>\n",
       "      <td>5</td>\n",
       "      <td>51.000000</td>\n",
       "      <td>5.477226</td>\n",
       "      <td>45</td>\n",
       "      <td>60</td>\n",
       "    </tr>\n",
       "    <tr>\n",
       "      <th>2</th>\n",
       "      <td>3</td>\n",
       "      <td>86.666667</td>\n",
       "      <td>5.773503</td>\n",
       "      <td>80</td>\n",
       "      <td>90</td>\n",
       "    </tr>\n",
       "  </tbody>\n",
       "</table>\n",
       "</div>"
      ],
      "text/plain": [
       "      count       mean       std  min  max\n",
       "math                                      \n",
       "0         2  25.000000  7.071068   20   30\n",
       "1         5  51.000000  5.477226   45   60\n",
       "2         3  86.666667  5.773503   80   90"
      ]
     },
     "execution_count": 18,
     "metadata": {},
     "output_type": "execute_result"
    }
   ],
   "source": [
    "df2.agg(['count','mean','std','min','max'])"
   ]
  },
  {
   "cell_type": "code",
   "execution_count": 20,
   "id": "c9f78bec",
   "metadata": {},
   "outputs": [
    {
     "data": {
      "text/plain": [
       "0      (42.0, 50.0]\n",
       "1      (54.0, 82.0]\n",
       "2      (42.0, 50.0]\n",
       "3    (19.999, 42.0]\n",
       "4      (82.0, 90.0]\n",
       "5      (42.0, 50.0]\n",
       "6      (54.0, 82.0]\n",
       "7      (82.0, 90.0]\n",
       "8    (19.999, 42.0]\n",
       "9      (42.0, 50.0]\n",
       "Name: math, dtype: category\n",
       "Categories (5, interval[float64, right]): [(19.999, 42.0] < (42.0, 50.0] < (50.0, 54.0] < (54.0, 82.0] < (82.0, 90.0]]"
      ]
     },
     "execution_count": 20,
     "metadata": {},
     "output_type": "execute_result"
    }
   ],
   "source": [
    "# 유사한 값들끼리 5구간으로 나누기 균등X\n",
    "pd.qcut(df['math'], 5)"
   ]
  },
  {
   "cell_type": "code",
   "execution_count": 22,
   "id": "f530132a",
   "metadata": {},
   "outputs": [
    {
     "data": {
      "text/plain": [
       "0    1\n",
       "1    3\n",
       "2    1\n",
       "3    0\n",
       "4    4\n",
       "5    1\n",
       "6    3\n",
       "7    4\n",
       "8    0\n",
       "9    1\n",
       "Name: math, dtype: int64"
      ]
     },
     "execution_count": 22,
     "metadata": {},
     "output_type": "execute_result"
    }
   ],
   "source": [
    "pd.qcut(df['math'],5,labels=False)"
   ]
  }
 ],
 "metadata": {
  "kernelspec": {
   "display_name": "Python 3 (ipykernel)",
   "language": "python",
   "name": "python3"
  },
  "language_info": {
   "codemirror_mode": {
    "name": "ipython",
    "version": 3
   },
   "file_extension": ".py",
   "mimetype": "text/x-python",
   "name": "python",
   "nbconvert_exporter": "python",
   "pygments_lexer": "ipython3",
   "version": "3.9.12"
  }
 },
 "nbformat": 4,
 "nbformat_minor": 5
}
