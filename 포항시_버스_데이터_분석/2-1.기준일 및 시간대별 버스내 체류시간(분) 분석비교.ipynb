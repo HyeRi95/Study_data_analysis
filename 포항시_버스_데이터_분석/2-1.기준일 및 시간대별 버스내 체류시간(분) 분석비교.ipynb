{
 "cells": [
  {
   "cell_type": "code",
   "execution_count": 4,
   "metadata": {},
   "outputs": [],
   "source": [
    "import pandas as pd"
   ]
  },
  {
   "cell_type": "code",
   "execution_count": 5,
   "metadata": {},
   "outputs": [
    {
     "data": {
      "text/plain": [
       "842608"
      ]
     },
     "execution_count": 5,
     "metadata": {},
     "output_type": "execute_result"
    }
   ],
   "source": [
    "df=pd.DataFrame()\n",
    "for i in range(1,81):\n",
    "    d=pd.read_csv(f'./data/trfcard ({i}).csv')\n",
    "    df=pd.concat([df,d],ignore_index=True)\n",
    "\n",
    "len(df)"
   ]
  },
  {
   "cell_type": "code",
   "execution_count": 6,
   "metadata": {},
   "outputs": [
    {
     "data": {
      "text/html": [
       "<div>\n",
       "<style scoped>\n",
       "    .dataframe tbody tr th:only-of-type {\n",
       "        vertical-align: middle;\n",
       "    }\n",
       "\n",
       "    .dataframe tbody tr th {\n",
       "        vertical-align: top;\n",
       "    }\n",
       "\n",
       "    .dataframe thead th {\n",
       "        text-align: right;\n",
       "    }\n",
       "</style>\n",
       "<table border=\"1\" class=\"dataframe\">\n",
       "  <thead>\n",
       "    <tr style=\"text-align: right;\">\n",
       "      <th></th>\n",
       "      <th>승차시각</th>\n",
       "      <th>하차시각</th>\n",
       "      <th>노선명</th>\n",
       "      <th>노선설명</th>\n",
       "      <th>승객연령</th>\n",
       "      <th>환승여부</th>\n",
       "      <th>추가운임여부</th>\n",
       "      <th>승차정류장</th>\n",
       "      <th>승차정류장 GPS X</th>\n",
       "      <th>승차정류장 GPS Y</th>\n",
       "      <th>하차정류장</th>\n",
       "      <th>하차정류장 GPS X</th>\n",
       "      <th>하차정류장 GPS Y</th>\n",
       "    </tr>\n",
       "  </thead>\n",
       "  <tbody>\n",
       "    <tr>\n",
       "      <th>0</th>\n",
       "      <td>20200229051543</td>\n",
       "      <td>20200229051942</td>\n",
       "      <td>500</td>\n",
       "      <td>문덕-시외터미널-흥해-청하-월포</td>\n",
       "      <td>일반</td>\n",
       "      <td>N</td>\n",
       "      <td>N</td>\n",
       "      <td>문덕사거리</td>\n",
       "      <td>129.403442</td>\n",
       "      <td>35.962846</td>\n",
       "      <td>성우오토모티브</td>\n",
       "      <td>129.384492</td>\n",
       "      <td>35.972675</td>\n",
       "    </tr>\n",
       "    <tr>\n",
       "      <th>1</th>\n",
       "      <td>20200229052108</td>\n",
       "      <td>20200229054920</td>\n",
       "      <td>102</td>\n",
       "      <td>문덕-남구청-고속터미널-북구보건소-양덕</td>\n",
       "      <td>일반</td>\n",
       "      <td>N</td>\n",
       "      <td>N</td>\n",
       "      <td>문덕사거리</td>\n",
       "      <td>129.403623</td>\n",
       "      <td>35.962553</td>\n",
       "      <td>죽도시장</td>\n",
       "      <td>129.365169</td>\n",
       "      <td>36.035704</td>\n",
       "    </tr>\n",
       "    <tr>\n",
       "      <th>2</th>\n",
       "      <td>20200229052215</td>\n",
       "      <td>20200229054440</td>\n",
       "      <td>101</td>\n",
       "      <td>양덕-고속터미널-동해</td>\n",
       "      <td>일반</td>\n",
       "      <td>N</td>\n",
       "      <td>N</td>\n",
       "      <td>풍림아이원</td>\n",
       "      <td>129.401705</td>\n",
       "      <td>36.085096</td>\n",
       "      <td>죽도시장</td>\n",
       "      <td>129.365486</td>\n",
       "      <td>36.034110</td>\n",
       "    </tr>\n",
       "    <tr>\n",
       "      <th>3</th>\n",
       "      <td>20200229052248</td>\n",
       "      <td>20200229055318</td>\n",
       "      <td>175</td>\n",
       "      <td>문덕-고속터미널-선린병원-달전</td>\n",
       "      <td>일반</td>\n",
       "      <td>N</td>\n",
       "      <td>N</td>\n",
       "      <td>부영사랑3차</td>\n",
       "      <td>129.402520</td>\n",
       "      <td>35.973038</td>\n",
       "      <td>오거리</td>\n",
       "      <td>129.366312</td>\n",
       "      <td>36.031816</td>\n",
       "    </tr>\n",
       "    <tr>\n",
       "      <th>4</th>\n",
       "      <td>20200229052309</td>\n",
       "      <td>20200229052907</td>\n",
       "      <td>131</td>\n",
       "      <td>양덕-송도-시청-양학-양덕</td>\n",
       "      <td>일반</td>\n",
       "      <td>N</td>\n",
       "      <td>N</td>\n",
       "      <td>영보빌라</td>\n",
       "      <td>129.374157</td>\n",
       "      <td>36.039168</td>\n",
       "      <td>대해성당</td>\n",
       "      <td>129.368360</td>\n",
       "      <td>36.017960</td>\n",
       "    </tr>\n",
       "  </tbody>\n",
       "</table>\n",
       "</div>"
      ],
      "text/plain": [
       "             승차시각            하차시각  노선명                   노선설명 승객연령 환승여부  \\\n",
       "0  20200229051543  20200229051942  500      문덕-시외터미널-흥해-청하-월포   일반    N   \n",
       "1  20200229052108  20200229054920  102  문덕-남구청-고속터미널-북구보건소-양덕   일반    N   \n",
       "2  20200229052215  20200229054440  101            양덕-고속터미널-동해   일반    N   \n",
       "3  20200229052248  20200229055318  175       문덕-고속터미널-선린병원-달전   일반    N   \n",
       "4  20200229052309  20200229052907  131         양덕-송도-시청-양학-양덕   일반    N   \n",
       "\n",
       "  추가운임여부   승차정류장  승차정류장 GPS X  승차정류장 GPS Y    하차정류장  하차정류장 GPS X  하차정류장 GPS Y  \n",
       "0      N   문덕사거리   129.403442    35.962846  성우오토모티브   129.384492    35.972675  \n",
       "1      N   문덕사거리   129.403623    35.962553     죽도시장   129.365169    36.035704  \n",
       "2      N   풍림아이원   129.401705    36.085096     죽도시장   129.365486    36.034110  \n",
       "3      N  부영사랑3차   129.402520    35.973038      오거리   129.366312    36.031816  \n",
       "4      N    영보빌라   129.374157    36.039168     대해성당   129.368360    36.017960  "
      ]
     },
     "execution_count": 6,
     "metadata": {},
     "output_type": "execute_result"
    }
   ],
   "source": [
    "col = pd.read_csv('./data/meta.csv', encoding='euc-kr')\n",
    "col = col[['컬럼명(영문)','컬럼명(한글)']]\n",
    "col\n",
    "\n",
    "col_list = col.to_dict('records')\n",
    "col_list\n",
    "\n",
    "new_dict = {}\n",
    "\n",
    "for kv in col_list:\n",
    "    new_dict[kv['컬럼명(영문)']] = kv['컬럼명(한글)']\n",
    "new_dict\n",
    "\n",
    "df = df.rename(columns= new_dict)\n",
    "df.head(5)"
   ]
  },
  {
   "cell_type": "code",
   "execution_count": 7,
   "metadata": {},
   "outputs": [
    {
     "name": "stdout",
     "output_type": "stream",
     "text": [
      "<class 'pandas.core.frame.DataFrame'>\n",
      "RangeIndex: 842608 entries, 0 to 842607\n",
      "Data columns (total 13 columns):\n",
      " #   Column       Non-Null Count   Dtype  \n",
      "---  ------       --------------   -----  \n",
      " 0   승차시각         842608 non-null  int64  \n",
      " 1   하차시각         842608 non-null  int64  \n",
      " 2   노선명          842608 non-null  object \n",
      " 3   노선설명         842608 non-null  object \n",
      " 4   승객연령         842608 non-null  object \n",
      " 5   환승여부         842608 non-null  object \n",
      " 6   추가운임여부       842608 non-null  object \n",
      " 7   승차정류장        842608 non-null  object \n",
      " 8   승차정류장 GPS X  842608 non-null  float64\n",
      " 9   승차정류장 GPS Y  842608 non-null  float64\n",
      " 10  하차정류장        842608 non-null  object \n",
      " 11  하차정류장 GPS X  842608 non-null  float64\n",
      " 12  하차정류장 GPS Y  842608 non-null  float64\n",
      "dtypes: float64(4), int64(2), object(7)\n",
      "memory usage: 83.6+ MB\n"
     ]
    }
   ],
   "source": [
    "df.info()"
   ]
  },
  {
   "cell_type": "code",
   "execution_count": 8,
   "metadata": {},
   "outputs": [
    {
     "data": {
      "text/html": [
       "<div>\n",
       "<style scoped>\n",
       "    .dataframe tbody tr th:only-of-type {\n",
       "        vertical-align: middle;\n",
       "    }\n",
       "\n",
       "    .dataframe tbody tr th {\n",
       "        vertical-align: top;\n",
       "    }\n",
       "\n",
       "    .dataframe thead th {\n",
       "        text-align: right;\n",
       "    }\n",
       "</style>\n",
       "<table border=\"1\" class=\"dataframe\">\n",
       "  <thead>\n",
       "    <tr style=\"text-align: right;\">\n",
       "      <th></th>\n",
       "      <th>승차시각</th>\n",
       "      <th>하차시각</th>\n",
       "      <th>승차정류장 GPS X</th>\n",
       "      <th>승차정류장 GPS Y</th>\n",
       "      <th>하차정류장 GPS X</th>\n",
       "      <th>하차정류장 GPS Y</th>\n",
       "    </tr>\n",
       "  </thead>\n",
       "  <tbody>\n",
       "    <tr>\n",
       "      <th>count</th>\n",
       "      <td>8.426080e+05</td>\n",
       "      <td>8.426080e+05</td>\n",
       "      <td>842608.000000</td>\n",
       "      <td>842608.000000</td>\n",
       "      <td>842608.000000</td>\n",
       "      <td>842608.000000</td>\n",
       "    </tr>\n",
       "    <tr>\n",
       "      <th>mean</th>\n",
       "      <td>2.020017e+13</td>\n",
       "      <td>2.020017e+13</td>\n",
       "      <td>129.369875</td>\n",
       "      <td>36.033987</td>\n",
       "      <td>129.369699</td>\n",
       "      <td>36.030874</td>\n",
       "    </tr>\n",
       "    <tr>\n",
       "      <th>std</th>\n",
       "      <td>6.691819e+07</td>\n",
       "      <td>6.691830e+07</td>\n",
       "      <td>0.051007</td>\n",
       "      <td>0.044272</td>\n",
       "      <td>0.042348</td>\n",
       "      <td>0.034512</td>\n",
       "    </tr>\n",
       "    <tr>\n",
       "      <th>min</th>\n",
       "      <td>2.020010e+13</td>\n",
       "      <td>2.020010e+13</td>\n",
       "      <td>129.025585</td>\n",
       "      <td>35.804119</td>\n",
       "      <td>129.025585</td>\n",
       "      <td>35.804119</td>\n",
       "    </tr>\n",
       "    <tr>\n",
       "      <th>25%</th>\n",
       "      <td>2.020012e+13</td>\n",
       "      <td>2.020012e+13</td>\n",
       "      <td>129.350290</td>\n",
       "      <td>36.010240</td>\n",
       "      <td>129.353856</td>\n",
       "      <td>36.013250</td>\n",
       "    </tr>\n",
       "    <tr>\n",
       "      <th>50%</th>\n",
       "      <td>2.020013e+13</td>\n",
       "      <td>2.020013e+13</td>\n",
       "      <td>129.365486</td>\n",
       "      <td>36.031170</td>\n",
       "      <td>129.365281</td>\n",
       "      <td>36.033732</td>\n",
       "    </tr>\n",
       "    <tr>\n",
       "      <th>75%</th>\n",
       "      <td>2.020022e+13</td>\n",
       "      <td>2.020022e+13</td>\n",
       "      <td>129.384770</td>\n",
       "      <td>36.064088</td>\n",
       "      <td>129.371682</td>\n",
       "      <td>36.045735</td>\n",
       "    </tr>\n",
       "    <tr>\n",
       "      <th>max</th>\n",
       "      <td>2.020033e+13</td>\n",
       "      <td>2.020040e+13</td>\n",
       "      <td>129.579045</td>\n",
       "      <td>36.303479</td>\n",
       "      <td>129.579045</td>\n",
       "      <td>36.303479</td>\n",
       "    </tr>\n",
       "  </tbody>\n",
       "</table>\n",
       "</div>"
      ],
      "text/plain": [
       "               승차시각          하차시각    승차정류장 GPS X    승차정류장 GPS Y  \\\n",
       "count  8.426080e+05  8.426080e+05  842608.000000  842608.000000   \n",
       "mean   2.020017e+13  2.020017e+13     129.369875      36.033987   \n",
       "std    6.691819e+07  6.691830e+07       0.051007       0.044272   \n",
       "min    2.020010e+13  2.020010e+13     129.025585      35.804119   \n",
       "25%    2.020012e+13  2.020012e+13     129.350290      36.010240   \n",
       "50%    2.020013e+13  2.020013e+13     129.365486      36.031170   \n",
       "75%    2.020022e+13  2.020022e+13     129.384770      36.064088   \n",
       "max    2.020033e+13  2.020040e+13     129.579045      36.303479   \n",
       "\n",
       "         하차정류장 GPS X    하차정류장 GPS Y  \n",
       "count  842608.000000  842608.000000  \n",
       "mean      129.369699      36.030874  \n",
       "std         0.042348       0.034512  \n",
       "min       129.025585      35.804119  \n",
       "25%       129.353856      36.013250  \n",
       "50%       129.365281      36.033732  \n",
       "75%       129.371682      36.045735  \n",
       "max       129.579045      36.303479  "
      ]
     },
     "execution_count": 8,
     "metadata": {},
     "output_type": "execute_result"
    }
   ],
   "source": [
    "df.describe()"
   ]
  },
  {
   "cell_type": "code",
   "execution_count": 9,
   "metadata": {},
   "outputs": [
    {
     "data": {
      "text/plain": [
       "0"
      ]
     },
     "execution_count": 9,
     "metadata": {},
     "output_type": "execute_result"
    }
   ],
   "source": [
    "df.duplicated().sum()"
   ]
  },
  {
   "cell_type": "code",
   "execution_count": 10,
   "metadata": {},
   "outputs": [],
   "source": [
    "# <버스 내 체류시간 분석>\n",
    "# 기준일 및 시간대별 버스내 체류시간(분) 분석비교\n",
    "# 시간 및 승객구분별 빈도분석 비교"
   ]
  },
  {
   "cell_type": "code",
   "execution_count": 11,
   "metadata": {},
   "outputs": [],
   "source": [
    "df['기준일']=df['승차시각'].astype(str).str[0:8]\n"
   ]
  },
  {
   "cell_type": "code",
   "execution_count": 12,
   "metadata": {},
   "outputs": [
    {
     "data": {
      "text/plain": [
       "540346    20200101\n",
       "544081    20200101\n",
       "544082    20200101\n",
       "544083    20200101\n",
       "544084    20200101\n",
       "            ...   \n",
       "36695     20200331\n",
       "36696     20200331\n",
       "36697     20200331\n",
       "36690     20200331\n",
       "36448     20200331\n",
       "Name: 기준일, Length: 842608, dtype: object"
      ]
     },
     "execution_count": 12,
     "metadata": {},
     "output_type": "execute_result"
    }
   ],
   "source": [
    "df['기준일'].sort_values()"
   ]
  },
  {
   "cell_type": "code",
   "execution_count": 13,
   "metadata": {},
   "outputs": [
    {
     "data": {
      "text/plain": [
       "20200120    17984\n",
       "20200110    17524\n",
       "20200123    17415\n",
       "20200121    17324\n",
       "20200122    17247\n",
       "            ...  \n",
       "20200308     2827\n",
       "20200331     2496\n",
       "20200301     2402\n",
       "20200329     1242\n",
       "20200325      131\n",
       "Name: 기준일, Length: 80, dtype: int64"
      ]
     },
     "execution_count": 13,
     "metadata": {},
     "output_type": "execute_result"
    }
   ],
   "source": [
    "df['기준일'].value_counts()"
   ]
  },
  {
   "cell_type": "code",
   "execution_count": 14,
   "metadata": {},
   "outputs": [],
   "source": [
    "df['하차시각d']=pd.to_datetime(df['하차시각'],format=\"%Y%m%d%H%M%S\")\n",
    "df['승차시각d']=pd.to_datetime(df['승차시각'],format=\"%Y%m%d%H%M%S\")"
   ]
  },
  {
   "cell_type": "code",
   "execution_count": 15,
   "metadata": {},
   "outputs": [
    {
     "data": {
      "text/plain": [
       "0        0 days 00:03:59\n",
       "1        0 days 00:28:12\n",
       "2        0 days 00:22:25\n",
       "3        0 days 00:30:30\n",
       "4        0 days 00:05:58\n",
       "               ...      \n",
       "842603   0 days 00:03:16\n",
       "842604   0 days 00:09:29\n",
       "842605   0 days 00:13:46\n",
       "842606   0 days 00:19:14\n",
       "842607   0 days 00:04:17\n",
       "Name: 체류시간, Length: 842608, dtype: timedelta64[ns]"
      ]
     },
     "execution_count": 15,
     "metadata": {},
     "output_type": "execute_result"
    }
   ],
   "source": [
    "df['체류시간']=df['하차시각d']-df['승차시각d']\n",
    "df['체류시간']"
   ]
  },
  {
   "cell_type": "code",
   "execution_count": 16,
   "metadata": {},
   "outputs": [
    {
     "data": {
      "text/html": [
       "<div>\n",
       "<style scoped>\n",
       "    .dataframe tbody tr th:only-of-type {\n",
       "        vertical-align: middle;\n",
       "    }\n",
       "\n",
       "    .dataframe tbody tr th {\n",
       "        vertical-align: top;\n",
       "    }\n",
       "\n",
       "    .dataframe thead th {\n",
       "        text-align: right;\n",
       "    }\n",
       "</style>\n",
       "<table border=\"1\" class=\"dataframe\">\n",
       "  <thead>\n",
       "    <tr style=\"text-align: right;\">\n",
       "      <th></th>\n",
       "      <th>승차시각</th>\n",
       "      <th>하차시각</th>\n",
       "      <th>노선명</th>\n",
       "      <th>노선설명</th>\n",
       "      <th>승객연령</th>\n",
       "      <th>환승여부</th>\n",
       "      <th>추가운임여부</th>\n",
       "      <th>승차정류장</th>\n",
       "      <th>승차정류장 GPS X</th>\n",
       "      <th>승차정류장 GPS Y</th>\n",
       "      <th>하차정류장</th>\n",
       "      <th>하차정류장 GPS X</th>\n",
       "      <th>하차정류장 GPS Y</th>\n",
       "      <th>기준일</th>\n",
       "      <th>하차시각d</th>\n",
       "      <th>승차시각d</th>\n",
       "      <th>체류시간</th>\n",
       "      <th>시간대</th>\n",
       "    </tr>\n",
       "  </thead>\n",
       "  <tbody>\n",
       "    <tr>\n",
       "      <th>0</th>\n",
       "      <td>20200229051543</td>\n",
       "      <td>20200229051942</td>\n",
       "      <td>500</td>\n",
       "      <td>문덕-시외터미널-흥해-청하-월포</td>\n",
       "      <td>일반</td>\n",
       "      <td>N</td>\n",
       "      <td>N</td>\n",
       "      <td>문덕사거리</td>\n",
       "      <td>129.403442</td>\n",
       "      <td>35.962846</td>\n",
       "      <td>성우오토모티브</td>\n",
       "      <td>129.384492</td>\n",
       "      <td>35.972675</td>\n",
       "      <td>20200229</td>\n",
       "      <td>2020-02-29 05:19:42</td>\n",
       "      <td>2020-02-29 05:15:43</td>\n",
       "      <td>0 days 00:03:59</td>\n",
       "      <td>5</td>\n",
       "    </tr>\n",
       "  </tbody>\n",
       "</table>\n",
       "</div>"
      ],
      "text/plain": [
       "             승차시각            하차시각  노선명               노선설명 승객연령 환승여부 추가운임여부  \\\n",
       "0  20200229051543  20200229051942  500  문덕-시외터미널-흥해-청하-월포   일반    N      N   \n",
       "\n",
       "   승차정류장  승차정류장 GPS X  승차정류장 GPS Y    하차정류장  하차정류장 GPS X  하차정류장 GPS Y  \\\n",
       "0  문덕사거리   129.403442    35.962846  성우오토모티브   129.384492    35.972675   \n",
       "\n",
       "        기준일               하차시각d               승차시각d            체류시간  시간대  \n",
       "0  20200229 2020-02-29 05:19:42 2020-02-29 05:15:43 0 days 00:03:59    5  "
      ]
     },
     "execution_count": 16,
     "metadata": {},
     "output_type": "execute_result"
    }
   ],
   "source": [
    "df['시간대']=df['승차시각d'].dt.hour\n",
    "df.head(1)"
   ]
  },
  {
   "cell_type": "code",
   "execution_count": 17,
   "metadata": {},
   "outputs": [],
   "source": [
    "df['기준일']=pd.to_datetime(df['기준일'],format=\"%Y%m%d\")\n",
    "#df.info()"
   ]
  },
  {
   "cell_type": "code",
   "execution_count": 18,
   "metadata": {},
   "outputs": [
    {
     "data": {
      "text/html": [
       "<div>\n",
       "<style scoped>\n",
       "    .dataframe tbody tr th:only-of-type {\n",
       "        vertical-align: middle;\n",
       "    }\n",
       "\n",
       "    .dataframe tbody tr th {\n",
       "        vertical-align: top;\n",
       "    }\n",
       "\n",
       "    .dataframe thead th {\n",
       "        text-align: right;\n",
       "    }\n",
       "</style>\n",
       "<table border=\"1\" class=\"dataframe\">\n",
       "  <thead>\n",
       "    <tr style=\"text-align: right;\">\n",
       "      <th></th>\n",
       "      <th>체류시간</th>\n",
       "    </tr>\n",
       "    <tr>\n",
       "      <th>기준일</th>\n",
       "      <th></th>\n",
       "    </tr>\n",
       "  </thead>\n",
       "  <tbody>\n",
       "    <tr>\n",
       "      <th>2020-01-01</th>\n",
       "      <td>118 days 07:55:57</td>\n",
       "    </tr>\n",
       "    <tr>\n",
       "      <th>2020-01-02</th>\n",
       "      <td>189 days 06:16:49</td>\n",
       "    </tr>\n",
       "    <tr>\n",
       "      <th>2020-01-03</th>\n",
       "      <td>198 days 14:18:13</td>\n",
       "    </tr>\n",
       "    <tr>\n",
       "      <th>2020-01-04</th>\n",
       "      <td>151 days 13:43:40</td>\n",
       "    </tr>\n",
       "    <tr>\n",
       "      <th>2020-01-05</th>\n",
       "      <td>109 days 15:17:57</td>\n",
       "    </tr>\n",
       "    <tr>\n",
       "      <th>...</th>\n",
       "      <td>...</td>\n",
       "    </tr>\n",
       "    <tr>\n",
       "      <th>2020-03-27</th>\n",
       "      <td>54 days 16:31:52</td>\n",
       "    </tr>\n",
       "    <tr>\n",
       "      <th>2020-03-28</th>\n",
       "      <td>42 days 20:45:29</td>\n",
       "    </tr>\n",
       "    <tr>\n",
       "      <th>2020-03-29</th>\n",
       "      <td>13 days 08:50:03</td>\n",
       "    </tr>\n",
       "    <tr>\n",
       "      <th>2020-03-30</th>\n",
       "      <td>56 days 05:10:49</td>\n",
       "    </tr>\n",
       "    <tr>\n",
       "      <th>2020-03-31</th>\n",
       "      <td>28 days 22:01:09</td>\n",
       "    </tr>\n",
       "  </tbody>\n",
       "</table>\n",
       "<p>80 rows × 1 columns</p>\n",
       "</div>"
      ],
      "text/plain": [
       "                        체류시간\n",
       "기준일                         \n",
       "2020-01-01 118 days 07:55:57\n",
       "2020-01-02 189 days 06:16:49\n",
       "2020-01-03 198 days 14:18:13\n",
       "2020-01-04 151 days 13:43:40\n",
       "2020-01-05 109 days 15:17:57\n",
       "...                      ...\n",
       "2020-03-27  54 days 16:31:52\n",
       "2020-03-28  42 days 20:45:29\n",
       "2020-03-29  13 days 08:50:03\n",
       "2020-03-30  56 days 05:10:49\n",
       "2020-03-31  28 days 22:01:09\n",
       "\n",
       "[80 rows x 1 columns]"
      ]
     },
     "execution_count": 18,
     "metadata": {},
     "output_type": "execute_result"
    }
   ],
   "source": [
    "pivot2=df.pivot_table(values=\"체류시간\",index='기준일',aggfunc=sum)\n",
    "pivot2"
   ]
  },
  {
   "cell_type": "code",
   "execution_count": 24,
   "metadata": {},
   "outputs": [
    {
     "data": {
      "text/html": [
       "<div>\n",
       "<style scoped>\n",
       "    .dataframe tbody tr th:only-of-type {\n",
       "        vertical-align: middle;\n",
       "    }\n",
       "\n",
       "    .dataframe tbody tr th {\n",
       "        vertical-align: top;\n",
       "    }\n",
       "\n",
       "    .dataframe thead th {\n",
       "        text-align: right;\n",
       "    }\n",
       "</style>\n",
       "<table border=\"1\" class=\"dataframe\">\n",
       "  <thead>\n",
       "    <tr style=\"text-align: right;\">\n",
       "      <th></th>\n",
       "      <th>체류시간</th>\n",
       "    </tr>\n",
       "    <tr>\n",
       "      <th>시간대</th>\n",
       "      <th></th>\n",
       "    </tr>\n",
       "  </thead>\n",
       "  <tbody>\n",
       "    <tr>\n",
       "      <th>0</th>\n",
       "      <td>0 days 00:12:56</td>\n",
       "    </tr>\n",
       "    <tr>\n",
       "      <th>5</th>\n",
       "      <td>67 days 21:07:52</td>\n",
       "    </tr>\n",
       "    <tr>\n",
       "      <th>6</th>\n",
       "      <td>209 days 22:11:42</td>\n",
       "    </tr>\n",
       "    <tr>\n",
       "      <th>7</th>\n",
       "      <td>480 days 00:20:25</td>\n",
       "    </tr>\n",
       "    <tr>\n",
       "      <th>8</th>\n",
       "      <td>665 days 22:43:17</td>\n",
       "    </tr>\n",
       "    <tr>\n",
       "      <th>9</th>\n",
       "      <td>687 days 22:17:56</td>\n",
       "    </tr>\n",
       "    <tr>\n",
       "      <th>10</th>\n",
       "      <td>698 days 07:28:13</td>\n",
       "    </tr>\n",
       "    <tr>\n",
       "      <th>11</th>\n",
       "      <td>735 days 11:45:40</td>\n",
       "    </tr>\n",
       "    <tr>\n",
       "      <th>12</th>\n",
       "      <td>750 days 10:16:02</td>\n",
       "    </tr>\n",
       "    <tr>\n",
       "      <th>13</th>\n",
       "      <td>789 days 09:58:32</td>\n",
       "    </tr>\n",
       "    <tr>\n",
       "      <th>14</th>\n",
       "      <td>789 days 00:09:16</td>\n",
       "    </tr>\n",
       "    <tr>\n",
       "      <th>15</th>\n",
       "      <td>802 days 11:16:53</td>\n",
       "    </tr>\n",
       "    <tr>\n",
       "      <th>16</th>\n",
       "      <td>734 days 18:46:52</td>\n",
       "    </tr>\n",
       "    <tr>\n",
       "      <th>17</th>\n",
       "      <td>756 days 08:14:55</td>\n",
       "    </tr>\n",
       "    <tr>\n",
       "      <th>18</th>\n",
       "      <td>611 days 07:18:56</td>\n",
       "    </tr>\n",
       "    <tr>\n",
       "      <th>19</th>\n",
       "      <td>324 days 18:53:55</td>\n",
       "    </tr>\n",
       "    <tr>\n",
       "      <th>20</th>\n",
       "      <td>267 days 20:36:49</td>\n",
       "    </tr>\n",
       "    <tr>\n",
       "      <th>21</th>\n",
       "      <td>236 days 04:15:56</td>\n",
       "    </tr>\n",
       "    <tr>\n",
       "      <th>22</th>\n",
       "      <td>158 days 07:53:25</td>\n",
       "    </tr>\n",
       "    <tr>\n",
       "      <th>23</th>\n",
       "      <td>27 days 15:33:59</td>\n",
       "    </tr>\n",
       "  </tbody>\n",
       "</table>\n",
       "</div>"
      ],
      "text/plain": [
       "                 체류시간\n",
       "시간대                  \n",
       "0     0 days 00:12:56\n",
       "5    67 days 21:07:52\n",
       "6   209 days 22:11:42\n",
       "7   480 days 00:20:25\n",
       "8   665 days 22:43:17\n",
       "9   687 days 22:17:56\n",
       "10  698 days 07:28:13\n",
       "11  735 days 11:45:40\n",
       "12  750 days 10:16:02\n",
       "13  789 days 09:58:32\n",
       "14  789 days 00:09:16\n",
       "15  802 days 11:16:53\n",
       "16  734 days 18:46:52\n",
       "17  756 days 08:14:55\n",
       "18  611 days 07:18:56\n",
       "19  324 days 18:53:55\n",
       "20  267 days 20:36:49\n",
       "21  236 days 04:15:56\n",
       "22  158 days 07:53:25\n",
       "23   27 days 15:33:59"
      ]
     },
     "execution_count": 24,
     "metadata": {},
     "output_type": "execute_result"
    }
   ],
   "source": [
    "pivot=df.pivot_table(values=\"체류시간\",index=\"시간대\",aggfunc=sum)\n",
    "pivot"
   ]
  },
  {
   "cell_type": "code",
   "execution_count": 20,
   "metadata": {},
   "outputs": [],
   "source": [
    "import matplotlib.pyplot as plt\n",
    "import seaborn as sns"
   ]
  },
  {
   "cell_type": "code",
   "execution_count": 21,
   "metadata": {},
   "outputs": [],
   "source": [
    "from matplotlib import font_manager, rc\n",
    "font_path=\"C:/Windows/Fonts/NanumGothicCoding-Bold.ttf\"\n",
    "font=font_manager.FontProperties(fname=font_path).get_name()\n",
    "rc('font', family=font)"
   ]
  },
  {
   "cell_type": "code",
   "execution_count": 25,
   "metadata": {},
   "outputs": [
    {
     "data": {
      "image/png": "[encoded data removed]",
      "text/plain": [
       "<Figure size 1440x720 with 1 Axes>"
      ]
     },
     "metadata": {
      "needs_background": "light"
     },
     "output_type": "display_data"
    }
   ],
   "source": [
    "plt.rcParams[\"figure.figsize\"] = (20, 10)\n",
    "plt.rcParams[\"lines.linewidth\"] = 2\n",
    "plt.rc(\"font\", family = \"Malgun Gothic\", size=10)\n",
    "\n",
    "pivot.plot(legend=False)\n",
    "\n",
    "plt.title(\"시간대별 버스내 체류시간 분석비교\")\n",
    "plt.xticks([5,6,7,8,9,10,11,12,13,14,15,16,17,18,19,20,21,22,23])\n",
    "plt.xlim(5,23)\n",
    "plt.ylabel('체류시간')\n",
    "\n",
    "plt.show()"
   ]
  },
  {
   "cell_type": "code",
   "execution_count": null,
   "metadata": {},
   "outputs": [],
   "source": [
    "## 분석\n",
    "# 1. 새벽시간대인 5-6시와 저녁시간대인 22-23시에 체류시간이 가장 짧다.\n",
    "# 2. 새벽시간 이후 체류시간은 급증하며 본격적인 출근시간인 8시부터 15시까지 완만한 상승세를 보인다.\n",
    "# 3. 이후 17시부터 이동량의 급감세가 19시까지 지속되는데 대도시에 비해 비교적 규모가 작은 소도시이므로\n",
    "#  이동량의 감소가 다소 이른 시각에 시작되는 것으로 보인다."
   ]
  },
  {
   "cell_type": "code",
   "execution_count": 23,
   "metadata": {},
   "outputs": [
    {
     "data": {
      "image/png": "[encoded data removed]",
      "text/plain": [
       "<Figure size 1440x720 with 1 Axes>"
      ]
     },
     "metadata": {
      "needs_background": "light"
     },
     "output_type": "display_data"
    }
   ],
   "source": [
    "plt.rcParams[\"figure.figsize\"] = (20, 10)\n",
    "plt.rcParams[\"lines.linewidth\"] = 2\n",
    "plt.rc(\"font\", family = \"Malgun Gothic\", size=10)\n",
    "\n",
    "pivot2.plot(legend=False)\n",
    "\n",
    "plt.title(\"기준일별 버스내 체류시간 분석비교\")\n",
    "#plt.xticks([5,6,7,8,9,10,11,12,13,14,15,16,17,18,19,20,21,22,23])\n",
    "plt.ylabel('체류시간')\n",
    "\n",
    "plt.show()"
   ]
  },
  {
   "cell_type": "code",
   "execution_count": null,
   "metadata": {},
   "outputs": [],
   "source": [
    "## 분석\n",
    "# 1. 1월부터 2월 말까지 주중에는 체류시간이 길고, 주말에는 짧은 패턴이 대체로 지속된다.\n",
    "# 2. 다만 1월 말 경 일시적으로 체류시간이 급감하는 시기는 한파 때문일 것으로 보인다.\n",
    "# 3. 1,2월은 방학 시기로 인근 도시 혹은 다른 곳에서의 관광객 유입이 지속적으로 유지되는 것으로 보이며,\n",
    "#  이후 2월 말부터 체류시간이 급감하여 (3월 일부 데이터 없음) 이 패턴이 유지된다."
   ]
  }
 ],
 "metadata": {
  "kernelspec": {
   "display_name": "Python 3.9.12 ('base')",
   "language": "python",
   "name": "python3"
  },
  "language_info": {
   "codemirror_mode": {
    "name": "ipython",
    "version": 3
   },
   "file_extension": ".py",
   "mimetype": "text/x-python",
   "name": "python",
   "nbconvert_exporter": "python",
   "pygments_lexer": "ipython3",
   "version": "3.9.12"
  },
  "orig_nbformat": 4,
  "vscode": {
   "interpreter": {
    "hash": "610a6f344c2137faf927ea819c63f6cee33a2c04455044b28099f39fe9722347"
   }
  }
 },
 "nbformat": 4,
 "nbformat_minor": 2
}
