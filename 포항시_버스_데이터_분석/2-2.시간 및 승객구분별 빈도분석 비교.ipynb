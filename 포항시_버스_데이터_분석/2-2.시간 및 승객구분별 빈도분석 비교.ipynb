{
 "cells": [
  {
   "cell_type": "code",
   "execution_count": 2,
   "metadata": {},
   "outputs": [],
   "source": [
    "import pandas as pd"
   ]
  },
  {
   "cell_type": "markdown",
   "metadata": {},
   "source": [
    "#### rename이 안먹는파트 "
   ]
  },
  {
   "cell_type": "code",
   "execution_count": 3,
   "metadata": {},
   "outputs": [
    {
     "data": {
      "text/plain": [
       "842608"
      ]
     },
     "execution_count": 3,
     "metadata": {},
     "output_type": "execute_result"
    }
   ],
   "source": [
    "clear_df=pd.DataFrame()\n",
    "for i in range(1,81,1):\n",
    "    file_path ='C:/Users/admin/Desktop/trfcard/data/trfcard ({}).csv'.format(i) \n",
    "    df = pd.read_csv(file_path)\n",
    "    clear_df = pd.concat([clear_df,df],ignore_index=True)\n",
    "clear_df.head()\n",
    "len(clear_df)"
   ]
  },
  {
   "cell_type": "code",
   "execution_count": 4,
   "metadata": {},
   "outputs": [],
   "source": [
    "col = pd.read_excel('C:/Users/admin/Desktop/trfcard/data/trfcard_columns.xlsx', header=0)\n",
    "col = col[['컬럼명(한글)','컬럼명(영문)']]"
   ]
  },
  {
   "cell_type": "code",
   "execution_count": 5,
   "metadata": {},
   "outputs": [
    {
     "data": {
      "text/plain": [
       "[{'컬럼명(한글)': '승차시각', '컬럼명(영문)': 'on_date'},\n",
       " {'컬럼명(한글)': '하차시각', '컬럼명(영문)': 'off_date'},\n",
       " {'컬럼명(한글)': '노선명', '컬럼명(영문)': 'route_name'},\n",
       " {'컬럼명(한글)': '노선설명', '컬럼명(영문)': 'descr'},\n",
       " {'컬럼명(한글)': '승객연령', '컬럼명(영문)': 'age_type'},\n",
       " {'컬럼명(한글)': '환승여부', '컬럼명(영문)': 'trans_yn'},\n",
       " {'컬럼명(한글)': '추가운임여부', '컬럼명(영문)': 'addfee_yn'},\n",
       " {'컬럼명(한글)': '승차정류장', '컬럼명(영문)': 'start_bstop'},\n",
       " {'컬럼명(한글)': '승차정류장 GPS X', '컬럼명(영문)': 'start_gps_x'},\n",
       " {'컬럼명(한글)': '승차정류장 GPS Y', '컬럼명(영문)': 'start_gps_y'},\n",
       " {'컬럼명(한글)': '하차정류장', '컬럼명(영문)': 'end_bstop'},\n",
       " {'컬럼명(한글)': '하차정류장 GPS X', '컬럼명(영문)': 'end_gps_x'},\n",
       " {'컬럼명(한글)': '하차정류장 GPS Y', '컬럼명(영문)': 'end_gps_y'}]"
      ]
     },
     "execution_count": 5,
     "metadata": {},
     "output_type": "execute_result"
    }
   ],
   "source": [
    "col_list = col.to_dict('records')\n",
    "col_list"
   ]
  },
  {
   "cell_type": "code",
   "execution_count": 6,
   "metadata": {},
   "outputs": [
    {
     "data": {
      "text/plain": [
       "{'승차시각': 'on_date',\n",
       " '하차시각': 'off_date',\n",
       " '노선명': 'route_name',\n",
       " '노선설명': 'descr',\n",
       " '승객연령': 'age_type',\n",
       " '환승여부': 'trans_yn',\n",
       " '추가운임여부': 'addfee_yn',\n",
       " '승차정류장': 'start_bstop',\n",
       " '승차정류장 GPS X': 'start_gps_x',\n",
       " '승차정류장 GPS Y': 'start_gps_y',\n",
       " '하차정류장': 'end_bstop',\n",
       " '하차정류장 GPS X': 'end_gps_x',\n",
       " '하차정류장 GPS Y': 'end_gps_y'}"
      ]
     },
     "execution_count": 6,
     "metadata": {},
     "output_type": "execute_result"
    }
   ],
   "source": [
    "new_dict = {}\n",
    "\n",
    "for kv in col_list:\n",
    "    new_dict[kv['컬럼명(한글)']] = kv['컬럼명(영문)']\n",
    "new_dict"
   ]
  },
  {
   "cell_type": "code",
   "execution_count": 7,
   "metadata": {},
   "outputs": [],
   "source": [
    "clear_df = clear_df.rename(columns = new_dict)"
   ]
  },
  {
   "cell_type": "markdown",
   "metadata": {},
   "source": [
    "#### ------------------------------------------------------------------------"
   ]
  },
  {
   "cell_type": "code",
   "execution_count": 8,
   "metadata": {},
   "outputs": [],
   "source": [
    "## 버스 내 체류시간 분석\n",
    "\n",
    "## 기준일 및 시간대별 버스내 체류시간(분) 분석비교\n",
    "## 시간 및 승객구분별 빈도분석 비교"
   ]
  },
  {
   "cell_type": "code",
   "execution_count": 9,
   "metadata": {},
   "outputs": [
    {
     "data": {
      "text/html": [
       "<div>\n",
       "<style scoped>\n",
       "    .dataframe tbody tr th:only-of-type {\n",
       "        vertical-align: middle;\n",
       "    }\n",
       "\n",
       "    .dataframe tbody tr th {\n",
       "        vertical-align: top;\n",
       "    }\n",
       "\n",
       "    .dataframe thead th {\n",
       "        text-align: right;\n",
       "    }\n",
       "</style>\n",
       "<table border=\"1\" class=\"dataframe\">\n",
       "  <thead>\n",
       "    <tr style=\"text-align: right;\">\n",
       "      <th></th>\n",
       "      <th>승차시각</th>\n",
       "      <th>하차시각</th>\n",
       "      <th>노선명</th>\n",
       "      <th>노선설명</th>\n",
       "      <th>승객연령</th>\n",
       "      <th>환승여부</th>\n",
       "      <th>추가운임여부</th>\n",
       "      <th>승차정류장</th>\n",
       "      <th>승차정류장 GPS X</th>\n",
       "      <th>승차정류장 GPS Y</th>\n",
       "      <th>하차정류장</th>\n",
       "      <th>하차정류장 GPS X</th>\n",
       "      <th>하차정류장 GPS Y</th>\n",
       "    </tr>\n",
       "  </thead>\n",
       "  <tbody>\n",
       "    <tr>\n",
       "      <th>0</th>\n",
       "      <td>20200103051542</td>\n",
       "      <td>20200103053306</td>\n",
       "      <td>500</td>\n",
       "      <td>문덕-시외터미널-흥해-청하-월포</td>\n",
       "      <td>일반</td>\n",
       "      <td>N</td>\n",
       "      <td>N</td>\n",
       "      <td>문덕사거리</td>\n",
       "      <td>129.403442</td>\n",
       "      <td>35.962846</td>\n",
       "      <td>대잠사거리</td>\n",
       "      <td>129.344492</td>\n",
       "      <td>36.011164</td>\n",
       "    </tr>\n",
       "    <tr>\n",
       "      <th>1</th>\n",
       "      <td>20200103052028</td>\n",
       "      <td>20200103053715</td>\n",
       "      <td>101</td>\n",
       "      <td>양덕-고속터미널-동해</td>\n",
       "      <td>일반</td>\n",
       "      <td>N</td>\n",
       "      <td>N</td>\n",
       "      <td>삼성쉐르빌</td>\n",
       "      <td>129.405116</td>\n",
       "      <td>36.086449</td>\n",
       "      <td>북구청</td>\n",
       "      <td>129.367128</td>\n",
       "      <td>36.041941</td>\n",
       "    </tr>\n",
       "  </tbody>\n",
       "</table>\n",
       "</div>"
      ],
      "text/plain": [
       "             승차시각            하차시각  노선명               노선설명 승객연령 환승여부 추가운임여부  \\\n",
       "0  20200103051542  20200103053306  500  문덕-시외터미널-흥해-청하-월포   일반    N      N   \n",
       "1  20200103052028  20200103053715  101        양덕-고속터미널-동해   일반    N      N   \n",
       "\n",
       "   승차정류장  승차정류장 GPS X  승차정류장 GPS Y  하차정류장  하차정류장 GPS X  하차정류장 GPS Y  \n",
       "0  문덕사거리   129.403442    35.962846  대잠사거리   129.344492    36.011164  \n",
       "1  삼성쉐르빌   129.405116    36.086449    북구청   129.367128    36.041941  "
      ]
     },
     "execution_count": 9,
     "metadata": {},
     "output_type": "execute_result"
    }
   ],
   "source": [
    "df_timeps = pd.read_csv('C:/Users/admin/Desktop/trfcard/data/trfcard_total.csv')\n",
    "df_timeps.head(2)"
   ]
  },
  {
   "cell_type": "code",
   "execution_count": 10,
   "metadata": {},
   "outputs": [
    {
     "data": {
      "text/html": [
       "<div>\n",
       "<style scoped>\n",
       "    .dataframe tbody tr th:only-of-type {\n",
       "        vertical-align: middle;\n",
       "    }\n",
       "\n",
       "    .dataframe tbody tr th {\n",
       "        vertical-align: top;\n",
       "    }\n",
       "\n",
       "    .dataframe thead th {\n",
       "        text-align: right;\n",
       "    }\n",
       "</style>\n",
       "<table border=\"1\" class=\"dataframe\">\n",
       "  <thead>\n",
       "    <tr style=\"text-align: right;\">\n",
       "      <th></th>\n",
       "      <th>승차시각</th>\n",
       "      <th>승객연령</th>\n",
       "    </tr>\n",
       "  </thead>\n",
       "  <tbody>\n",
       "    <tr>\n",
       "      <th>0</th>\n",
       "      <td>20200103051542</td>\n",
       "      <td>일반</td>\n",
       "    </tr>\n",
       "    <tr>\n",
       "      <th>1</th>\n",
       "      <td>20200103052028</td>\n",
       "      <td>일반</td>\n",
       "    </tr>\n",
       "    <tr>\n",
       "      <th>2</th>\n",
       "      <td>20200103052103</td>\n",
       "      <td>일반</td>\n",
       "    </tr>\n",
       "    <tr>\n",
       "      <th>3</th>\n",
       "      <td>20200103052126</td>\n",
       "      <td>일반</td>\n",
       "    </tr>\n",
       "    <tr>\n",
       "      <th>4</th>\n",
       "      <td>20200103052217</td>\n",
       "      <td>일반</td>\n",
       "    </tr>\n",
       "    <tr>\n",
       "      <th>...</th>\n",
       "      <td>...</td>\n",
       "      <td>...</td>\n",
       "    </tr>\n",
       "    <tr>\n",
       "      <th>842603</th>\n",
       "      <td>20200102232423</td>\n",
       "      <td>일반</td>\n",
       "    </tr>\n",
       "    <tr>\n",
       "      <th>842604</th>\n",
       "      <td>20200102232449</td>\n",
       "      <td>일반</td>\n",
       "    </tr>\n",
       "    <tr>\n",
       "      <th>842605</th>\n",
       "      <td>20200102232849</td>\n",
       "      <td>일반</td>\n",
       "    </tr>\n",
       "    <tr>\n",
       "      <th>842606</th>\n",
       "      <td>20200102233518</td>\n",
       "      <td>일반</td>\n",
       "    </tr>\n",
       "    <tr>\n",
       "      <th>842607</th>\n",
       "      <td>20200102235936</td>\n",
       "      <td>일반</td>\n",
       "    </tr>\n",
       "  </tbody>\n",
       "</table>\n",
       "<p>842608 rows × 2 columns</p>\n",
       "</div>"
      ],
      "text/plain": [
       "                  승차시각 승객연령\n",
       "0       20200103051542   일반\n",
       "1       20200103052028   일반\n",
       "2       20200103052103   일반\n",
       "3       20200103052126   일반\n",
       "4       20200103052217   일반\n",
       "...                ...  ...\n",
       "842603  20200102232423   일반\n",
       "842604  20200102232449   일반\n",
       "842605  20200102232849   일반\n",
       "842606  20200102233518   일반\n",
       "842607  20200102235936   일반\n",
       "\n",
       "[842608 rows x 2 columns]"
      ]
     },
     "execution_count": 10,
     "metadata": {},
     "output_type": "execute_result"
    }
   ],
   "source": [
    "df_timeps_a = df_timeps[['승차시각', '승객연령']]\n",
    "df_timeps_a"
   ]
  },
  {
   "cell_type": "code",
   "execution_count": 11,
   "metadata": {},
   "outputs": [
    {
     "data": {
      "text/plain": [
       "일반      772599\n",
       "청소년      59037\n",
       "어린이      10047\n",
       "None       925\n",
       "Name: 승객연령, dtype: int64"
      ]
     },
     "execution_count": 11,
     "metadata": {},
     "output_type": "execute_result"
    }
   ],
   "source": [
    "df_timeps_a['승객연령'].value_counts()"
   ]
  },
  {
   "cell_type": "code",
   "execution_count": 12,
   "metadata": {},
   "outputs": [
    {
     "data": {
      "text/plain": [
       "일반     772599\n",
       "청소년     59037\n",
       "어린이     10047\n",
       "기타        925\n",
       "Name: 승객연령, dtype: int64"
      ]
     },
     "execution_count": 12,
     "metadata": {},
     "output_type": "execute_result"
    }
   ],
   "source": [
    "# 승객연령의 None값을 기타로 바꾸기\n",
    "df_timeps_a = df_timeps_a.replace({'승객연령':'None'}, '기타')\n",
    "df_timeps_a['승객연령'].value_counts()"
   ]
  },
  {
   "cell_type": "code",
   "execution_count": 13,
   "metadata": {},
   "outputs": [
    {
     "data": {
      "text/html": [
       "<div>\n",
       "<style scoped>\n",
       "    .dataframe tbody tr th:only-of-type {\n",
       "        vertical-align: middle;\n",
       "    }\n",
       "\n",
       "    .dataframe tbody tr th {\n",
       "        vertical-align: top;\n",
       "    }\n",
       "\n",
       "    .dataframe thead th {\n",
       "        text-align: right;\n",
       "    }\n",
       "</style>\n",
       "<table border=\"1\" class=\"dataframe\">\n",
       "  <thead>\n",
       "    <tr style=\"text-align: right;\">\n",
       "      <th></th>\n",
       "      <th>승차시각</th>\n",
       "      <th>승객연령</th>\n",
       "      <th>승차시각_date</th>\n",
       "    </tr>\n",
       "  </thead>\n",
       "  <tbody>\n",
       "    <tr>\n",
       "      <th>0</th>\n",
       "      <td>20200103051542</td>\n",
       "      <td>일반</td>\n",
       "      <td>2020-01-03 05:15:42</td>\n",
       "    </tr>\n",
       "    <tr>\n",
       "      <th>1</th>\n",
       "      <td>20200103052028</td>\n",
       "      <td>일반</td>\n",
       "      <td>2020-01-03 05:20:28</td>\n",
       "    </tr>\n",
       "    <tr>\n",
       "      <th>2</th>\n",
       "      <td>20200103052103</td>\n",
       "      <td>일반</td>\n",
       "      <td>2020-01-03 05:21:03</td>\n",
       "    </tr>\n",
       "    <tr>\n",
       "      <th>3</th>\n",
       "      <td>20200103052126</td>\n",
       "      <td>일반</td>\n",
       "      <td>2020-01-03 05:21:26</td>\n",
       "    </tr>\n",
       "    <tr>\n",
       "      <th>4</th>\n",
       "      <td>20200103052217</td>\n",
       "      <td>일반</td>\n",
       "      <td>2020-01-03 05:22:17</td>\n",
       "    </tr>\n",
       "    <tr>\n",
       "      <th>...</th>\n",
       "      <td>...</td>\n",
       "      <td>...</td>\n",
       "      <td>...</td>\n",
       "    </tr>\n",
       "    <tr>\n",
       "      <th>842603</th>\n",
       "      <td>20200102232423</td>\n",
       "      <td>일반</td>\n",
       "      <td>2020-01-02 23:24:23</td>\n",
       "    </tr>\n",
       "    <tr>\n",
       "      <th>842604</th>\n",
       "      <td>20200102232449</td>\n",
       "      <td>일반</td>\n",
       "      <td>2020-01-02 23:24:49</td>\n",
       "    </tr>\n",
       "    <tr>\n",
       "      <th>842605</th>\n",
       "      <td>20200102232849</td>\n",
       "      <td>일반</td>\n",
       "      <td>2020-01-02 23:28:49</td>\n",
       "    </tr>\n",
       "    <tr>\n",
       "      <th>842606</th>\n",
       "      <td>20200102233518</td>\n",
       "      <td>일반</td>\n",
       "      <td>2020-01-02 23:35:18</td>\n",
       "    </tr>\n",
       "    <tr>\n",
       "      <th>842607</th>\n",
       "      <td>20200102235936</td>\n",
       "      <td>일반</td>\n",
       "      <td>2020-01-02 23:59:36</td>\n",
       "    </tr>\n",
       "  </tbody>\n",
       "</table>\n",
       "<p>842608 rows × 3 columns</p>\n",
       "</div>"
      ],
      "text/plain": [
       "                  승차시각 승객연령           승차시각_date\n",
       "0       20200103051542   일반 2020-01-03 05:15:42\n",
       "1       20200103052028   일반 2020-01-03 05:20:28\n",
       "2       20200103052103   일반 2020-01-03 05:21:03\n",
       "3       20200103052126   일반 2020-01-03 05:21:26\n",
       "4       20200103052217   일반 2020-01-03 05:22:17\n",
       "...                ...  ...                 ...\n",
       "842603  20200102232423   일반 2020-01-02 23:24:23\n",
       "842604  20200102232449   일반 2020-01-02 23:24:49\n",
       "842605  20200102232849   일반 2020-01-02 23:28:49\n",
       "842606  20200102233518   일반 2020-01-02 23:35:18\n",
       "842607  20200102235936   일반 2020-01-02 23:59:36\n",
       "\n",
       "[842608 rows x 3 columns]"
      ]
     },
     "execution_count": 13,
     "metadata": {},
     "output_type": "execute_result"
    }
   ],
   "source": [
    "# 승치시각을 datetime으로 바꿔서 승차시각_date에 저장\n",
    "df_timeps_a['승차시각_date'] = pd.to_datetime(df_timeps_a['승차시각'], format=\"%Y%m%d%H%M%S\")\n",
    "df_timeps_a"
   ]
  },
  {
   "cell_type": "code",
   "execution_count": 14,
   "metadata": {},
   "outputs": [
    {
     "data": {
      "text/html": [
       "<div>\n",
       "<style scoped>\n",
       "    .dataframe tbody tr th:only-of-type {\n",
       "        vertical-align: middle;\n",
       "    }\n",
       "\n",
       "    .dataframe tbody tr th {\n",
       "        vertical-align: top;\n",
       "    }\n",
       "\n",
       "    .dataframe thead th {\n",
       "        text-align: right;\n",
       "    }\n",
       "</style>\n",
       "<table border=\"1\" class=\"dataframe\">\n",
       "  <thead>\n",
       "    <tr style=\"text-align: right;\">\n",
       "      <th></th>\n",
       "      <th>승차시각</th>\n",
       "      <th>승객연령</th>\n",
       "      <th>승차시각_date</th>\n",
       "      <th>승차일</th>\n",
       "      <th>승차시</th>\n",
       "    </tr>\n",
       "  </thead>\n",
       "  <tbody>\n",
       "    <tr>\n",
       "      <th>0</th>\n",
       "      <td>20200103051542</td>\n",
       "      <td>일반</td>\n",
       "      <td>2020-01-03 05:15:42</td>\n",
       "      <td>2020-01-03</td>\n",
       "      <td>05:15:42</td>\n",
       "    </tr>\n",
       "    <tr>\n",
       "      <th>1</th>\n",
       "      <td>20200103052028</td>\n",
       "      <td>일반</td>\n",
       "      <td>2020-01-03 05:20:28</td>\n",
       "      <td>2020-01-03</td>\n",
       "      <td>05:20:28</td>\n",
       "    </tr>\n",
       "    <tr>\n",
       "      <th>2</th>\n",
       "      <td>20200103052103</td>\n",
       "      <td>일반</td>\n",
       "      <td>2020-01-03 05:21:03</td>\n",
       "      <td>2020-01-03</td>\n",
       "      <td>05:21:03</td>\n",
       "    </tr>\n",
       "    <tr>\n",
       "      <th>3</th>\n",
       "      <td>20200103052126</td>\n",
       "      <td>일반</td>\n",
       "      <td>2020-01-03 05:21:26</td>\n",
       "      <td>2020-01-03</td>\n",
       "      <td>05:21:26</td>\n",
       "    </tr>\n",
       "    <tr>\n",
       "      <th>4</th>\n",
       "      <td>20200103052217</td>\n",
       "      <td>일반</td>\n",
       "      <td>2020-01-03 05:22:17</td>\n",
       "      <td>2020-01-03</td>\n",
       "      <td>05:22:17</td>\n",
       "    </tr>\n",
       "    <tr>\n",
       "      <th>...</th>\n",
       "      <td>...</td>\n",
       "      <td>...</td>\n",
       "      <td>...</td>\n",
       "      <td>...</td>\n",
       "      <td>...</td>\n",
       "    </tr>\n",
       "    <tr>\n",
       "      <th>842603</th>\n",
       "      <td>20200102232423</td>\n",
       "      <td>일반</td>\n",
       "      <td>2020-01-02 23:24:23</td>\n",
       "      <td>2020-01-02</td>\n",
       "      <td>23:24:23</td>\n",
       "    </tr>\n",
       "    <tr>\n",
       "      <th>842604</th>\n",
       "      <td>20200102232449</td>\n",
       "      <td>일반</td>\n",
       "      <td>2020-01-02 23:24:49</td>\n",
       "      <td>2020-01-02</td>\n",
       "      <td>23:24:49</td>\n",
       "    </tr>\n",
       "    <tr>\n",
       "      <th>842605</th>\n",
       "      <td>20200102232849</td>\n",
       "      <td>일반</td>\n",
       "      <td>2020-01-02 23:28:49</td>\n",
       "      <td>2020-01-02</td>\n",
       "      <td>23:28:49</td>\n",
       "    </tr>\n",
       "    <tr>\n",
       "      <th>842606</th>\n",
       "      <td>20200102233518</td>\n",
       "      <td>일반</td>\n",
       "      <td>2020-01-02 23:35:18</td>\n",
       "      <td>2020-01-02</td>\n",
       "      <td>23:35:18</td>\n",
       "    </tr>\n",
       "    <tr>\n",
       "      <th>842607</th>\n",
       "      <td>20200102235936</td>\n",
       "      <td>일반</td>\n",
       "      <td>2020-01-02 23:59:36</td>\n",
       "      <td>2020-01-02</td>\n",
       "      <td>23:59:36</td>\n",
       "    </tr>\n",
       "  </tbody>\n",
       "</table>\n",
       "<p>842608 rows × 5 columns</p>\n",
       "</div>"
      ],
      "text/plain": [
       "                  승차시각 승객연령           승차시각_date         승차일       승차시\n",
       "0       20200103051542   일반 2020-01-03 05:15:42  2020-01-03  05:15:42\n",
       "1       20200103052028   일반 2020-01-03 05:20:28  2020-01-03  05:20:28\n",
       "2       20200103052103   일반 2020-01-03 05:21:03  2020-01-03  05:21:03\n",
       "3       20200103052126   일반 2020-01-03 05:21:26  2020-01-03  05:21:26\n",
       "4       20200103052217   일반 2020-01-03 05:22:17  2020-01-03  05:22:17\n",
       "...                ...  ...                 ...         ...       ...\n",
       "842603  20200102232423   일반 2020-01-02 23:24:23  2020-01-02  23:24:23\n",
       "842604  20200102232449   일반 2020-01-02 23:24:49  2020-01-02  23:24:49\n",
       "842605  20200102232849   일반 2020-01-02 23:28:49  2020-01-02  23:28:49\n",
       "842606  20200102233518   일반 2020-01-02 23:35:18  2020-01-02  23:35:18\n",
       "842607  20200102235936   일반 2020-01-02 23:59:36  2020-01-02  23:59:36\n",
       "\n",
       "[842608 rows x 5 columns]"
      ]
     },
     "execution_count": 14,
     "metadata": {},
     "output_type": "execute_result"
    }
   ],
   "source": [
    "# 승차일, 승차시 각각나눠서 따로 저장\n",
    "df_timeps_a['승차일'] = df_timeps_a['승차시각_date'].dt.date\n",
    "df_timeps_a['승차시'] = df_timeps_a['승차시각_date'].dt.time\n",
    "df_timeps_a"
   ]
  },
  {
   "cell_type": "code",
   "execution_count": 15,
   "metadata": {},
   "outputs": [
    {
     "data": {
      "text/plain": [
       "승차시각                  int64\n",
       "승객연령                 object\n",
       "승차시각_date    datetime64[ns]\n",
       "승차일                  object\n",
       "승차시                  object\n",
       "dtype: object"
      ]
     },
     "execution_count": 15,
     "metadata": {},
     "output_type": "execute_result"
    }
   ],
   "source": [
    "df_timeps_a.dtypes"
   ]
  },
  {
   "cell_type": "code",
   "execution_count": 18,
   "metadata": {},
   "outputs": [],
   "source": [
    "# 시간별로 구분하기위해 승차시에서 시간만 뽑아서 따로 저장\n",
    "df_timeps_a['승차시_hour'] = df_timeps_a['승차시각_date'].dt.hour\n",
    "df_timeps_a\n",
    "\n",
    "df_timeps_a.to_csv('./df_timeps.csv', index=False)"
   ]
  },
  {
   "cell_type": "code",
   "execution_count": null,
   "metadata": {},
   "outputs": [],
   "source": [
    "# crosstab으로 빈도 구하기\n",
    "df_timeps_b = pd.crosstab(df_timeps_a['승차시_hour'], df_timeps_a['승객연령'])\n",
    "df_timeps_b"
   ]
  },
  {
   "cell_type": "code",
   "execution_count": null,
   "metadata": {},
   "outputs": [],
   "source": [
    "import matplotlib.pyplot as plt"
   ]
  },
  {
   "cell_type": "code",
   "execution_count": null,
   "metadata": {},
   "outputs": [],
   "source": [
    "plt.rc('font', family='Malgun Gothic')\n",
    "\n",
    "df_timeps_b.plot(kind='bar', figsize=(13,7), \n",
    "                 title='시간 및 승객구분별 빈도분석',\n",
    "                 xlabel='시간',\n",
    "                 ylabel='승객수')"
   ]
  },
  {
   "cell_type": "code",
   "execution_count": null,
   "metadata": {},
   "outputs": [],
   "source": [
    "## 분석\n",
    "# 1. 승객 구분의 범주가 어린이(만 6세~만 12세),청소년(만 13세~만 18세),일반(만 19세 이상)으로 되어 있어 일반(성인)\n",
    "# 이용자가 모든 시간대에서 가장 많은 빈도수를 보여준다.\n",
    "# 2. 기타(데이터:'None')으로 분류된 승객은 특별한 내용을 찾을 수 없었으나 국가 차원의 복지혜택으로 대중교통 혜택을\n",
    "# 받는 계층으로 예상된다."
   ]
  }
 ],
 "metadata": {
  "kernelspec": {
   "display_name": "Python 3.9.12 64-bit",
   "language": "python",
   "name": "python3"
  },
  "language_info": {
   "codemirror_mode": {
    "name": "ipython",
    "version": 3
   },
   "file_extension": ".py",
   "mimetype": "text/x-python",
   "name": "python",
   "nbconvert_exporter": "python",
   "pygments_lexer": "ipython3",
   "version": "3.9.12"
  },
  "orig_nbformat": 4,
  "vscode": {
   "interpreter": {
    "hash": "38ae1ba9371524da054e8e3fbefd778d16b5a8ac7937a3f395010f627bb73919"
   }
  }
 },
 "nbformat": 4,
 "nbformat_minor": 2
}
